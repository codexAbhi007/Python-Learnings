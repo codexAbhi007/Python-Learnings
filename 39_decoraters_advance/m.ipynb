{
 "cells": [
  {
   "cell_type": "code",
   "execution_count": null,
   "metadata": {},
   "outputs": [],
   "source": [
    "def outer_func(msg):\n",
    "    \n",
    "\n",
    "    def inner_func():\n",
    "        print(msg)\n",
    "      \n",
    "    return inner_func\n",
    "\n",
    "hi_func = outer_func('Hi')\n",
    "bye_func = outer_func('Bye')\n",
    "\n",
    "hi_func()\n",
    "bye_func()"
   ]
  },
  {
   "cell_type": "markdown",
   "metadata": {},
   "source": [
    "A decorator is just a function that takes another function as an argument, adds some kind of functionality, and then returns another function without altering the source code of the original func"
   ]
  },
  {
   "cell_type": "code",
   "execution_count": null,
   "metadata": {},
   "outputs": [],
   "source": [
    "def decorater_func(msg):\n",
    "    def wrapper_func():\n",
    "        print(msg)\n",
    "      \n",
    "    return wrapper_func"
   ]
  },
  {
   "cell_type": "markdown",
   "metadata": {},
   "source": [
    "instead of printing the message we can pass a fx as an argument to decorater_func and execute it "
   ]
  },
  {
   "cell_type": "code",
   "execution_count": null,
   "metadata": {},
   "outputs": [],
   "source": []
  }
 ],
 "metadata": {
  "language_info": {
   "name": "python"
  }
 },
 "nbformat": 4,
 "nbformat_minor": 2
}
